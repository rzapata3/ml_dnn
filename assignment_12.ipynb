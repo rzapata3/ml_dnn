{
 "cells": [
  {
   "cell_type": "markdown",
   "metadata": {},
   "source": [
    "# Assignment 12 - Neural Networks image recognition\n",
    "Use both MLNN and the ConvNet to solve the following problem.\n",
    "\n",
    "1. Add random noise (i.e. `np.random.normal`) to the images in training and testing. Make sure each image gets a different noise feature added to it. Inspect by printing out an image. \n",
    "2. Compare the loss/accuracy (train, val) after N epochs for both MLNN and ConvNet with and without noise. \n",
    "3. Vary the amount of noise (multiply `np.random.normal` by a factor) and keep track of the accuracy and loss (for training and validation) and plot these results."
   ]
  },
  {
   "cell_type": "markdown",
   "metadata": {},
   "source": [
    "# Neural Networks - Image Recognition "
   ]
  },
  {
   "cell_type": "code",
   "execution_count": 2,
   "metadata": {},
   "outputs": [],
   "source": [
    "import keras\n",
    "from keras.datasets import mnist\n",
    "from keras.models import Sequential\n",
    "from keras.optimizers import RMSprop\n",
    "from keras.layers import Dense, Dropout, Flatten\n",
    "from keras.layers import Conv2D, MaxPooling2D\n",
    "from keras import backend\n",
    "import numpy as np\n",
    "from skimage.util import random_noise\n",
    "import matplotlib.pyplot as  plt\n",
    "%matplotlib inline"
   ]
  },
  {
   "cell_type": "markdown",
   "metadata": {},
   "source": [
    "## Multi Layer Neural Network\n",
    "Trains a simple deep NN on the MNIST dataset.\n",
    "Gets to 98.40% test accuracy after 20 epochs\n",
    "(there is *a lot* of margin for parameter tuning)."
   ]
  },
  {
   "cell_type": "code",
   "execution_count": 13,
   "metadata": {},
   "outputs": [
    {
     "name": "stdout",
     "output_type": "stream",
     "text": [
      "60000 train samples\n",
      "10000 test samples\n",
      "[[0. 0. 0. ... 0. 0. 0.]\n",
      " [0. 0. 0. ... 0. 0. 0.]\n",
      " [0. 0. 0. ... 0. 0. 0.]\n",
      " ...\n",
      " [0. 0. 0. ... 0. 0. 0.]\n",
      " [0. 0. 0. ... 0. 0. 0.]\n",
      " [0. 0. 0. ... 0. 0. 0.]]\n"
     ]
    }
   ],
   "source": [
    "# the data, shuffled and split between train and test sets\n",
    "(x_train, y_train), (x_test, y_test) = mnist.load_data()\n",
    "\n",
    "x_train = x_train.reshape(60000, 784)\n",
    "x_test = x_test.reshape(10000, 784)\n",
    "x_train = x_train.astype('float32')\n",
    "x_test = x_test.astype('float32')\n",
    "x_train /= 255\n",
    "x_test /= 255\n",
    "print(x_train.shape[0], 'train samples')\n",
    "print(x_test.shape[0], 'test samples')\n",
    "print(x_train)"
   ]
  },
  {
   "cell_type": "code",
   "execution_count": 14,
   "metadata": {},
   "outputs": [
    {
     "data": {
      "text/plain": [
       "<matplotlib.image.AxesImage at 0x63739cba8>"
      ]
     },
     "execution_count": 14,
     "metadata": {},
     "output_type": "execute_result"
    },
    {
     "data": {
      "image/png": "[encoded data removed]",
      "text/plain": [
       "<Figure size 432x288 with 1 Axes>"
      ]
     },
     "metadata": {
      "needs_background": "light"
     },
     "output_type": "display_data"
    }
   ],
   "source": [
    "plt.imshow(x_train[2].reshape(28,28))"
   ]
  },
  {
   "cell_type": "code",
   "execution_count": 15,
   "metadata": {},
   "outputs": [],
   "source": [
    "initial_mlnn_loss = []\n"
   ]
  },
  {
   "cell_type": "code",
   "execution_count": 16,
   "metadata": {
    "scrolled": true
   },
   "outputs": [
    {
     "name": "stdout",
     "output_type": "stream",
     "text": [
      "Model: \"sequential_3\"\n",
      "_________________________________________________________________\n",
      "Layer (type)                 Output Shape              Param #   \n",
      "=================================================================\n",
      "dense_7 (Dense)              (None, 512)               401920    \n",
      "_________________________________________________________________\n",
      "dropout_5 (Dropout)          (None, 512)               0         \n",
      "_________________________________________________________________\n",
      "dense_8 (Dense)              (None, 512)               262656    \n",
      "_________________________________________________________________\n",
      "dropout_6 (Dropout)          (None, 512)               0         \n",
      "_________________________________________________________________\n",
      "dense_9 (Dense)              (None, 10)                5130      \n",
      "=================================================================\n",
      "Total params: 669,706\n",
      "Trainable params: 669,706\n",
      "Non-trainable params: 0\n",
      "_________________________________________________________________\n",
      "Train on 60000 samples, validate on 10000 samples\n",
      "Epoch 1/20\n",
      "60000/60000 [==============================] - 3s 43us/step - loss: 0.2449 - accuracy: 0.9245 - val_loss: 0.1072 - val_accuracy: 0.9669\n",
      "Epoch 2/20\n",
      "60000/60000 [==============================] - 3s 42us/step - loss: 0.1039 - accuracy: 0.9683 - val_loss: 0.0888 - val_accuracy: 0.9725\n",
      "Epoch 3/20\n",
      "60000/60000 [==============================] - 3s 42us/step - loss: 0.0748 - accuracy: 0.9781 - val_loss: 0.0774 - val_accuracy: 0.9786\n",
      "Epoch 4/20\n",
      "60000/60000 [==============================] - 3s 43us/step - loss: 0.0595 - accuracy: 0.9820 - val_loss: 0.0987 - val_accuracy: 0.9720\n",
      "Epoch 5/20\n",
      "60000/60000 [==============================] - 3s 45us/step - loss: 0.0489 - accuracy: 0.9855 - val_loss: 0.0780 - val_accuracy: 0.9795\n",
      "Epoch 6/20\n",
      "60000/60000 [==============================] - 3s 43us/step - loss: 0.0439 - accuracy: 0.9869 - val_loss: 0.0935 - val_accuracy: 0.9777\n",
      "Epoch 7/20\n",
      "60000/60000 [==============================] - 2s 42us/step - loss: 0.0380 - accuracy: 0.9883 - val_loss: 0.0761 - val_accuracy: 0.9827\n",
      "Epoch 8/20\n",
      "60000/60000 [==============================] - 2s 42us/step - loss: 0.0350 - accuracy: 0.9898 - val_loss: 0.0841 - val_accuracy: 0.9815\n",
      "Epoch 9/20\n",
      "60000/60000 [==============================] - 3s 48us/step - loss: 0.0301 - accuracy: 0.9908 - val_loss: 0.0770 - val_accuracy: 0.9842\n",
      "Epoch 10/20\n",
      "60000/60000 [==============================] - 3s 55us/step - loss: 0.0287 - accuracy: 0.9924 - val_loss: 0.0910 - val_accuracy: 0.9832\n",
      "Epoch 11/20\n",
      "60000/60000 [==============================] - 3s 44us/step - loss: 0.0281 - accuracy: 0.9915 - val_loss: 0.0950 - val_accuracy: 0.9824\n",
      "Epoch 12/20\n",
      "60000/60000 [==============================] - 3s 42us/step - loss: 0.0243 - accuracy: 0.9933 - val_loss: 0.0963 - val_accuracy: 0.9815\n",
      "Epoch 13/20\n",
      "60000/60000 [==============================] - 3s 44us/step - loss: 0.0243 - accuracy: 0.9931 - val_loss: 0.1059 - val_accuracy: 0.9811\n",
      "Epoch 14/20\n",
      "60000/60000 [==============================] - 3s 45us/step - loss: 0.0225 - accuracy: 0.9937 - val_loss: 0.1000 - val_accuracy: 0.9834\n",
      "Epoch 15/20\n",
      "60000/60000 [==============================] - 3s 47us/step - loss: 0.0197 - accuracy: 0.9942 - val_loss: 0.0985 - val_accuracy: 0.9846\n",
      "Epoch 16/20\n",
      "60000/60000 [==============================] - 3s 48us/step - loss: 0.0213 - accuracy: 0.9945 - val_loss: 0.1201 - val_accuracy: 0.9825\n",
      "Epoch 17/20\n",
      "60000/60000 [==============================] - 3s 43us/step - loss: 0.0213 - accuracy: 0.9944 - val_loss: 0.1118 - val_accuracy: 0.9821\n",
      "Epoch 18/20\n",
      "60000/60000 [==============================] - 3s 43us/step - loss: 0.0205 - accuracy: 0.9944 - val_loss: 0.1155 - val_accuracy: 0.9832\n",
      "Epoch 19/20\n",
      "60000/60000 [==============================] - 3s 43us/step - loss: 0.0181 - accuracy: 0.9953 - val_loss: 0.1120 - val_accuracy: 0.9831\n",
      "Epoch 20/20\n",
      "60000/60000 [==============================] - 2s 41us/step - loss: 0.0181 - accuracy: 0.9953 - val_loss: 0.1189 - val_accuracy: 0.9826\n",
      "Test loss: 0.1189450991806239\n",
      "Test accuracy: 0.9825999736785889\n"
     ]
    }
   ],
   "source": [
    "batch_size = 128\n",
    "num_classes = 10\n",
    "epochs = 20\n",
    "\n",
    "\n",
    "# convert class vectors to binary class matrices\n",
    "y_train = keras.utils.to_categorical(y_train, num_classes)\n",
    "y_test = keras.utils.to_categorical(y_test, num_classes)\n",
    "\n",
    "model = Sequential()\n",
    "model.add(Dense(512, activation='relu', input_shape=(784,)))\n",
    "model.add(Dropout(0.2))\n",
    "model.add(Dense(512, activation='relu'))\n",
    "model.add(Dropout(0.2))\n",
    "model.add(Dense(10, activation='softmax'))\n",
    "\n",
    "model.summary()\n",
    "\n",
    "model.compile(loss='categorical_crossentropy',\n",
    "              optimizer=RMSprop(),\n",
    "              metrics=['accuracy'])\n",
    "\n",
    "history = model.fit(x_train, y_train,\n",
    "                    batch_size=batch_size,\n",
    "                    epochs=epochs,\n",
    "                    verbose=1,\n",
    "                    validation_data=(x_test, y_test))\n",
    "score = model.evaluate(x_test, y_test, verbose=0)\n",
    "initial_mlnn_loss.append(model.evaluate(x_test, y_test, verbose=0))\n",
    "print('Test loss:', score[0])\n",
    "print('Test accuracy:', score[1])"
   ]
  },
  {
   "cell_type": "code",
   "execution_count": 10,
   "metadata": {},
   "outputs": [
    {
     "data": {
      "text/plain": [
       "[[0.10650663499242005, 0.983299970626831]]"
      ]
     },
     "execution_count": 10,
     "metadata": {},
     "output_type": "execute_result"
    }
   ],
   "source": [
    "initial_mlnn_loss"
   ]
  },
  {
   "cell_type": "markdown",
   "metadata": {},
   "source": [
    "## Adding noise to the data."
   ]
  },
  {
   "cell_type": "code",
   "execution_count": 9,
   "metadata": {},
   "outputs": [
    {
     "name": "stdout",
     "output_type": "stream",
     "text": [
      "60000 train samples\n",
      "10000 test samples\n"
     ]
    }
   ],
   "source": [
    "# the data, shuffled and split between train and test sets\n",
    "(x_train, y_train), (x_test, y_test) = mnist.load_data()\n",
    "\n",
    "x_train = x_train.reshape(60000, 784)\n",
    "x_train = random_noise(x_train)\n",
    "x_test = x_test.reshape(10000, 784)\n",
    "x_test = random_noise(x_test)\n",
    "x_train = x_train.astype('float32')\n",
    "x_test = x_test.astype('float32')\n",
    "x_train /= 255\n",
    "x_test /= 255\n",
    "print(x_train.shape[0], 'train samples')\n",
    "print(x_test.shape[0], 'test samples')\n",
    "#x_train[0] 60000 x_train[1] 784"
   ]
  },
  {
   "cell_type": "code",
   "execution_count": 10,
   "metadata": {},
   "outputs": [
    {
     "data": {
      "text/plain": [
       "<matplotlib.image.AxesImage at 0x63405cc18>"
      ]
     },
     "execution_count": 10,
     "metadata": {},
     "output_type": "execute_result"
    },
    {
     "data": {
      "image/png": "[encoded data removed]",
      "text/plain": [
       "<Figure size 432x288 with 1 Axes>"
      ]
     },
     "metadata": {
      "needs_background": "light"
     },
     "output_type": "display_data"
    }
   ],
   "source": [
    "plt.imshow(x_train[2].reshape(28,28))"
   ]
  },
  {
   "cell_type": "code",
   "execution_count": 11,
   "metadata": {},
   "outputs": [],
   "source": [
    "noisey_mlnn_loss = []"
   ]
  },
  {
   "cell_type": "code",
   "execution_count": 12,
   "metadata": {
    "scrolled": true
   },
   "outputs": [
    {
     "name": "stdout",
     "output_type": "stream",
     "text": [
      "Model: \"sequential_2\"\n",
      "_________________________________________________________________\n",
      "Layer (type)                 Output Shape              Param #   \n",
      "=================================================================\n",
      "dense_4 (Dense)              (None, 512)               401920    \n",
      "_________________________________________________________________\n",
      "dropout_3 (Dropout)          (None, 512)               0         \n",
      "_________________________________________________________________\n",
      "dense_5 (Dense)              (None, 512)               262656    \n",
      "_________________________________________________________________\n",
      "dropout_4 (Dropout)          (None, 512)               0         \n",
      "_________________________________________________________________\n",
      "dense_6 (Dense)              (None, 10)                5130      \n",
      "=================================================================\n",
      "Total params: 669,706\n",
      "Trainable params: 669,706\n",
      "Non-trainable params: 0\n",
      "_________________________________________________________________\n",
      "Train on 60000 samples, validate on 10000 samples\n",
      "Epoch 1/20\n",
      "60000/60000 [==============================] - 2s 41us/step - loss: 0.9061 - accuracy: 0.7138 - val_loss: 0.4470 - val_accuracy: 0.8601\n",
      "Epoch 2/20\n",
      "60000/60000 [==============================] - 2s 38us/step - loss: 0.4005 - accuracy: 0.8796 - val_loss: 0.3232 - val_accuracy: 0.9084\n",
      "Epoch 3/20\n",
      "60000/60000 [==============================] - 2s 38us/step - loss: 0.3067 - accuracy: 0.9098 - val_loss: 0.2485 - val_accuracy: 0.9235\n",
      "Epoch 4/20\n",
      "60000/60000 [==============================] - 3s 42us/step - loss: 0.2444 - accuracy: 0.9267 - val_loss: 0.2215 - val_accuracy: 0.9324\n",
      "Epoch 5/20\n",
      "60000/60000 [==============================] - 3s 43us/step - loss: 0.2018 - accuracy: 0.9398 - val_loss: 0.1726 - val_accuracy: 0.9478\n",
      "Epoch 6/20\n",
      "60000/60000 [==============================] - 2s 41us/step - loss: 0.1695 - accuracy: 0.9495 - val_loss: 0.1597 - val_accuracy: 0.9490\n",
      "Epoch 7/20\n",
      "60000/60000 [==============================] - 3s 42us/step - loss: 0.1467 - accuracy: 0.9556 - val_loss: 0.1440 - val_accuracy: 0.9554\n",
      "Epoch 8/20\n",
      "60000/60000 [==============================] - 3s 43us/step - loss: 0.1287 - accuracy: 0.9614 - val_loss: 0.1300 - val_accuracy: 0.9593\n",
      "Epoch 9/20\n",
      "60000/60000 [==============================] - 3s 42us/step - loss: 0.1144 - accuracy: 0.9656 - val_loss: 0.1129 - val_accuracy: 0.9657\n",
      "Epoch 10/20\n",
      "60000/60000 [==============================] - 3s 43us/step - loss: 0.1028 - accuracy: 0.9690 - val_loss: 0.1168 - val_accuracy: 0.9650\n",
      "Epoch 11/20\n",
      "60000/60000 [==============================] - 2s 42us/step - loss: 0.0942 - accuracy: 0.9707 - val_loss: 0.1052 - val_accuracy: 0.9664\n",
      "Epoch 12/20\n",
      "60000/60000 [==============================] - 3s 42us/step - loss: 0.0851 - accuracy: 0.9740 - val_loss: 0.0959 - val_accuracy: 0.9702\n",
      "Epoch 13/20\n",
      "60000/60000 [==============================] - 3s 43us/step - loss: 0.0768 - accuracy: 0.9768 - val_loss: 0.0939 - val_accuracy: 0.9719\n",
      "Epoch 14/20\n",
      "60000/60000 [==============================] - 2s 41us/step - loss: 0.0706 - accuracy: 0.9785 - val_loss: 0.0968 - val_accuracy: 0.9694\n",
      "Epoch 15/20\n",
      "60000/60000 [==============================] - 3s 43us/step - loss: 0.0661 - accuracy: 0.9797 - val_loss: 0.0882 - val_accuracy: 0.9739\n",
      "Epoch 16/20\n",
      "60000/60000 [==============================] - 3s 42us/step - loss: 0.0616 - accuracy: 0.9813 - val_loss: 0.0856 - val_accuracy: 0.9740\n",
      "Epoch 17/20\n",
      "60000/60000 [==============================] - 3s 42us/step - loss: 0.0548 - accuracy: 0.9832 - val_loss: 0.0900 - val_accuracy: 0.9740\n",
      "Epoch 18/20\n",
      "60000/60000 [==============================] - 3s 42us/step - loss: 0.0520 - accuracy: 0.9842 - val_loss: 0.0930 - val_accuracy: 0.9732\n",
      "Epoch 19/20\n",
      "60000/60000 [==============================] - 3s 43us/step - loss: 0.0486 - accuracy: 0.9849 - val_loss: 0.0916 - val_accuracy: 0.9748\n",
      "Epoch 20/20\n",
      "60000/60000 [==============================] - 3s 42us/step - loss: 0.0457 - accuracy: 0.9862 - val_loss: 0.0853 - val_accuracy: 0.9761\n",
      "Test loss: 0.08534564933415968\n",
      "Test accuracy: 0.9761000275611877\n"
     ]
    }
   ],
   "source": [
    "batch_size = 128\n",
    "num_classes = 10\n",
    "epochs = 20\n",
    "\n",
    "\n",
    "# convert class vectors to binary class matrices\n",
    "y_train = keras.utils.to_categorical(y_train, num_classes)\n",
    "y_test = keras.utils.to_categorical(y_test, num_classes)\n",
    "\n",
    "model = Sequential()\n",
    "model.add(Dense(512, activation='relu', input_shape=(784,)))\n",
    "model.add(Dropout(0.2))\n",
    "model.add(Dense(512, activation='relu'))\n",
    "model.add(Dropout(0.2))\n",
    "model.add(Dense(10, activation='softmax'))\n",
    "\n",
    "model.summary()\n",
    "\n",
    "model.compile(loss='categorical_crossentropy',\n",
    "              optimizer=RMSprop(),\n",
    "              metrics=['accuracy'])\n",
    "\n",
    "history = model.fit(x_train, y_train,\n",
    "                    batch_size=batch_size,\n",
    "                    epochs=epochs,\n",
    "                    verbose=1,\n",
    "                    validation_data=(x_test, y_test))\n",
    "score = model.evaluate(x_test, y_test, verbose=0)\n",
    "noisey_mlnn_loss.append(model.evaluate(x_test, y_test, verbose=0))\n",
    "print('Test loss:', score[0])\n",
    "print('Test accuracy:', score[1])"
   ]
  },
  {
   "cell_type": "markdown",
   "metadata": {},
   "source": [
    "## Adding more noise"
   ]
  },
  {
   "cell_type": "code",
   "execution_count": 31,
   "metadata": {},
   "outputs": [
    {
     "name": "stdout",
     "output_type": "stream",
     "text": [
      "60000 train samples\n",
      "10000 test samples\n"
     ]
    }
   ],
   "source": [
    "# the data, shuffled and split between train and test sets\n",
    "(x_train, y_train), (x_test, y_test) = mnist.load_data()\n",
    "\n",
    "x_train = x_train.reshape(60000, 784)\n",
    "x_train = random_noise(x_train, mode='speckle')\n",
    "x_test = x_test.reshape(10000, 784)\n",
    "x_test = random_noise(x_test, mode='speckle')\n",
    "x_train = x_train.astype('float32')\n",
    "x_test = x_test.astype('float32')\n",
    "x_train /= 255\n",
    "x_test /= 255\n",
    "print(x_train.shape[0], 'train samples')\n",
    "print(x_test.shape[0], 'test samples')\n",
    "#x_train[0] 60000 x_train[1] 784"
   ]
  },
  {
   "cell_type": "code",
   "execution_count": 32,
   "metadata": {},
   "outputs": [],
   "source": [
    "more_noise_loss = []"
   ]
  },
  {
   "cell_type": "code",
   "execution_count": 33,
   "metadata": {
    "scrolled": true
   },
   "outputs": [
    {
     "name": "stdout",
     "output_type": "stream",
     "text": [
      "Model: \"sequential_7\"\n",
      "_________________________________________________________________\n",
      "Layer (type)                 Output Shape              Param #   \n",
      "=================================================================\n",
      "dense_16 (Dense)             (None, 512)               401920    \n",
      "_________________________________________________________________\n",
      "dropout_13 (Dropout)         (None, 512)               0         \n",
      "_________________________________________________________________\n",
      "dense_17 (Dense)             (None, 512)               262656    \n",
      "_________________________________________________________________\n",
      "dropout_14 (Dropout)         (None, 512)               0         \n",
      "_________________________________________________________________\n",
      "dense_18 (Dense)             (None, 10)                5130      \n",
      "=================================================================\n",
      "Total params: 669,706\n",
      "Trainable params: 669,706\n",
      "Non-trainable params: 0\n",
      "_________________________________________________________________\n",
      "Train on 60000 samples, validate on 10000 samples\n",
      "Epoch 1/20\n",
      "60000/60000 [==============================] - 3s 45us/step - loss: 0.8786 - accuracy: 0.7274 - val_loss: 0.4054 - val_accuracy: 0.8766\n",
      "Epoch 2/20\n",
      "60000/60000 [==============================] - 2s 39us/step - loss: 0.3737 - accuracy: 0.8879 - val_loss: 0.2945 - val_accuracy: 0.9150\n",
      "Epoch 3/20\n",
      "60000/60000 [==============================] - 2s 39us/step - loss: 0.2832 - accuracy: 0.9154 - val_loss: 0.2380 - val_accuracy: 0.9265\n",
      "Epoch 4/20\n",
      "60000/60000 [==============================] - 2s 41us/step - loss: 0.2257 - accuracy: 0.9323 - val_loss: 0.1906 - val_accuracy: 0.9429\n",
      "Epoch 5/20\n",
      "60000/60000 [==============================] - 3s 44us/step - loss: 0.1873 - accuracy: 0.9426 - val_loss: 0.1701 - val_accuracy: 0.9485\n",
      "Epoch 6/20\n",
      "60000/60000 [==============================] - 3s 43us/step - loss: 0.1591 - accuracy: 0.9521 - val_loss: 0.1553 - val_accuracy: 0.9522\n",
      "Epoch 7/20\n",
      "60000/60000 [==============================] - 3s 42us/step - loss: 0.1406 - accuracy: 0.9578 - val_loss: 0.1257 - val_accuracy: 0.9628\n",
      "Epoch 8/20\n",
      "60000/60000 [==============================] - 3s 42us/step - loss: 0.1217 - accuracy: 0.9634 - val_loss: 0.1173 - val_accuracy: 0.9638\n",
      "Epoch 9/20\n",
      "60000/60000 [==============================] - 3s 43us/step - loss: 0.1114 - accuracy: 0.9658 - val_loss: 0.1087 - val_accuracy: 0.9663\n",
      "Epoch 10/20\n",
      "60000/60000 [==============================] - 3s 43us/step - loss: 0.1017 - accuracy: 0.9690 - val_loss: 0.1096 - val_accuracy: 0.9668\n",
      "Epoch 11/20\n",
      "60000/60000 [==============================] - 3s 44us/step - loss: 0.0943 - accuracy: 0.9718 - val_loss: 0.0944 - val_accuracy: 0.9699\n",
      "Epoch 12/20\n",
      "60000/60000 [==============================] - 3s 43us/step - loss: 0.0872 - accuracy: 0.9739 - val_loss: 0.0873 - val_accuracy: 0.9747\n",
      "Epoch 13/20\n",
      "60000/60000 [==============================] - 3s 42us/step - loss: 0.0800 - accuracy: 0.9757 - val_loss: 0.0914 - val_accuracy: 0.9736\n",
      "Epoch 14/20\n",
      "60000/60000 [==============================] - 3s 43us/step - loss: 0.0751 - accuracy: 0.9765 - val_loss: 0.0875 - val_accuracy: 0.9747\n",
      "Epoch 15/20\n",
      "60000/60000 [==============================] - 3s 42us/step - loss: 0.0709 - accuracy: 0.9784 - val_loss: 0.0774 - val_accuracy: 0.9772\n",
      "Epoch 16/20\n",
      "60000/60000 [==============================] - 3s 44us/step - loss: 0.0666 - accuracy: 0.9804 - val_loss: 0.0831 - val_accuracy: 0.9763\n",
      "Epoch 17/20\n",
      "60000/60000 [==============================] - 3s 43us/step - loss: 0.0631 - accuracy: 0.9803 - val_loss: 0.0825 - val_accuracy: 0.9756\n",
      "Epoch 18/20\n",
      "60000/60000 [==============================] - 3s 42us/step - loss: 0.0601 - accuracy: 0.9815 - val_loss: 0.0956 - val_accuracy: 0.9712\n",
      "Epoch 19/20\n",
      "60000/60000 [==============================] - 3s 43us/step - loss: 0.0568 - accuracy: 0.9825 - val_loss: 0.0792 - val_accuracy: 0.9780\n",
      "Epoch 20/20\n",
      "60000/60000 [==============================] - 3s 43us/step - loss: 0.0547 - accuracy: 0.9834 - val_loss: 0.0823 - val_accuracy: 0.9770\n",
      "Test loss: 0.08227490533783566\n",
      "Test accuracy: 0.9769999980926514\n"
     ]
    }
   ],
   "source": [
    "batch_size = 128\n",
    "num_classes = 10\n",
    "epochs = 20\n",
    "\n",
    "\n",
    "# convert class vectors to binary class matrices\n",
    "y_train = keras.utils.to_categorical(y_train, num_classes)\n",
    "y_test = keras.utils.to_categorical(y_test, num_classes)\n",
    "\n",
    "model = Sequential()\n",
    "model.add(Dense(512, activation='relu', input_shape=(784,)))\n",
    "model.add(Dropout(0.2))\n",
    "model.add(Dense(512, activation='relu'))\n",
    "model.add(Dropout(0.2))\n",
    "model.add(Dense(10, activation='softmax'))\n",
    "\n",
    "model.summary()\n",
    "\n",
    "model.compile(loss='categorical_crossentropy',\n",
    "              optimizer=RMSprop(),\n",
    "              metrics=['accuracy'])\n",
    "\n",
    "history = model.fit(x_train, y_train,\n",
    "                    batch_size=batch_size,\n",
    "                    epochs=epochs,\n",
    "                    verbose=1,\n",
    "                    validation_data=(x_test, y_test))\n",
    "score = model.evaluate(x_test, y_test, verbose=0)\n",
    "more_noise_loss.append(model.evaluate(x_test, y_test, verbose=0))\n",
    "print('Test loss:', score[0])\n",
    "print('Test accuracy:', score[1])"
   ]
  },
  {
   "cell_type": "code",
   "execution_count": 34,
   "metadata": {},
   "outputs": [
    {
     "name": "stdout",
     "output_type": "stream",
     "text": [
      "[[0.08534564933415968, 0.9761000275611877]]\n",
      "[[0.1189450991806239, 0.9825999736785889]]\n",
      "[[0.08227490533783566, 0.9769999980926514]]\n"
     ]
    }
   ],
   "source": [
    "print(noisey_mlnn_loss)\n",
    "print(initial_mlnn_loss)\n",
    "print(more_noise_loss)"
   ]
  },
  {
   "cell_type": "markdown",
   "metadata": {},
   "source": [
    "## Graphing loss scores for MLNN"
   ]
  },
  {
   "cell_type": "code",
   "execution_count": 63,
   "metadata": {},
   "outputs": [
    {
     "data": {
      "text/plain": [
       "Text(0,0.5,'Accuracy Score for MLNN')"
      ]
     },
     "execution_count": 63,
     "metadata": {},
     "output_type": "execute_result"
    },
    {
     "data": {
      "image/png": "[encoded data removed]",
      "text/plain": [
       "<Figure size 432x288 with 1 Axes>"
      ]
     },
     "metadata": {
      "needs_background": "light"
     },
     "output_type": "display_data"
    }
   ],
   "source": [
    "# flatten the lists containing loss scores.\n",
    "x1 = np.array(noisey_mlnn_loss).flatten()[0]\n",
    "y1 = np.array(noisey_mlnn_loss).flatten()[1]\n",
    "\n",
    "x2 = np.array(initial_mlnn_loss).flatten()[0]\n",
    "y2 = np.array(initial_mlnn_loss).flatten()[1]\n",
    "\n",
    "x3 = np.array(more_noise_loss).flatten()[0]\n",
    "y3 = np.array(more_noise_loss).flatten()[1]\n",
    "\n",
    "x = [x2,x1,x3]\n",
    "y = [y2,y1,y3]\n",
    "# graph the data.\n",
    "plt.plot(x,y)\n",
    "plt.xlabel(\"Loss Score for MLNN\")\n",
    "plt.ylabel(\"Accuracy Score for MLNN\")"
   ]
  },
  {
   "cell_type": "markdown",
   "metadata": {},
   "source": [
    "## Conv Net\n",
    "Trains a simple convnet on the MNIST dataset.\n",
    "Gets to 99.25% test accuracy after 12 epochs\n",
    "(there is still a lot of margin for parameter tuning).\n"
   ]
  },
  {
   "cell_type": "code",
   "execution_count": 18,
   "metadata": {},
   "outputs": [],
   "source": [
    "convnet_loss = []"
   ]
  },
  {
   "cell_type": "code",
   "execution_count": 19,
   "metadata": {
    "scrolled": true
   },
   "outputs": [
    {
     "name": "stdout",
     "output_type": "stream",
     "text": [
      "x_train shape: (60000, 28, 28, 1)\n",
      "60000 train samples\n",
      "10000 test samples\n"
     ]
    }
   ],
   "source": [
    "# input image dimensions\n",
    "img_rows, img_cols = 28, 28\n",
    "\n",
    "# the data, shuffled and split between train and test sets\n",
    "(x_train, y_train), (x_test, y_test) = mnist.load_data()\n",
    "\n",
    "if backend.image_data_format() == 'channels_first':\n",
    "    x_train = x_train.reshape(x_train.shape[0], 1, img_rows, img_cols)\n",
    "    x_test = x_test.reshape(x_test.shape[0], 1, img_rows, img_cols)\n",
    "    input_shape = (1, img_rows, img_cols)\n",
    "else:\n",
    "    x_train = x_train.reshape(x_train.shape[0], img_rows, img_cols, 1)\n",
    "    x_test = x_test.reshape(x_test.shape[0], img_rows, img_cols, 1)\n",
    "    input_shape = (img_rows, img_cols, 1)\n",
    "\n",
    "x_train = x_train.astype('float32')\n",
    "x_test = x_test.astype('float32')\n",
    "x_train /= 255\n",
    "x_test /= 255\n",
    "print('x_train shape:', x_train.shape)\n",
    "print(x_train.shape[0], 'train samples')\n",
    "print(x_test.shape[0], 'test samples')"
   ]
  },
  {
   "cell_type": "code",
   "execution_count": 20,
   "metadata": {
    "scrolled": false
   },
   "outputs": [
    {
     "name": "stdout",
     "output_type": "stream",
     "text": [
      "Train on 60000 samples, validate on 10000 samples\n",
      "Epoch 1/12\n",
      "60000/60000 [==============================] - 62s 1ms/step - loss: 0.2690 - accuracy: 0.9176 - val_loss: 0.0595 - val_accuracy: 0.9802\n",
      "Epoch 2/12\n",
      "60000/60000 [==============================] - 63s 1ms/step - loss: 0.0872 - accuracy: 0.9737 - val_loss: 0.0429 - val_accuracy: 0.9854\n",
      "Epoch 3/12\n",
      "60000/60000 [==============================] - 62s 1ms/step - loss: 0.0662 - accuracy: 0.9796 - val_loss: 0.0333 - val_accuracy: 0.9887\n",
      "Epoch 4/12\n",
      "60000/60000 [==============================] - 61s 1ms/step - loss: 0.0549 - accuracy: 0.9835 - val_loss: 0.0304 - val_accuracy: 0.9888\n",
      "Epoch 5/12\n",
      "60000/60000 [==============================] - 60s 1ms/step - loss: 0.0463 - accuracy: 0.9855 - val_loss: 0.0331 - val_accuracy: 0.9882\n",
      "Epoch 6/12\n",
      "60000/60000 [==============================] - 62s 1ms/step - loss: 0.0420 - accuracy: 0.9873 - val_loss: 0.0287 - val_accuracy: 0.9900\n",
      "Epoch 7/12\n",
      "60000/60000 [==============================] - 61s 1ms/step - loss: 0.0370 - accuracy: 0.9890 - val_loss: 0.0285 - val_accuracy: 0.9909\n",
      "Epoch 8/12\n",
      "60000/60000 [==============================] - 60s 1ms/step - loss: 0.0355 - accuracy: 0.9893 - val_loss: 0.0291 - val_accuracy: 0.9911\n",
      "Epoch 9/12\n",
      "60000/60000 [==============================] - 60s 1ms/step - loss: 0.0337 - accuracy: 0.9895 - val_loss: 0.0331 - val_accuracy: 0.9902\n",
      "Epoch 10/12\n",
      "60000/60000 [==============================] - 60s 1000us/step - loss: 0.0306 - accuracy: 0.9904 - val_loss: 0.0245 - val_accuracy: 0.9919\n",
      "Epoch 11/12\n",
      "60000/60000 [==============================] - 60s 999us/step - loss: 0.0291 - accuracy: 0.9909 - val_loss: 0.0258 - val_accuracy: 0.9918\n",
      "Epoch 12/12\n",
      "60000/60000 [==============================] - 60s 1ms/step - loss: 0.0255 - accuracy: 0.9919 - val_loss: 0.0276 - val_accuracy: 0.9915\n",
      "Test loss: 0.027638795424243655\n",
      "Test accuracy: 0.9915000200271606\n"
     ]
    }
   ],
   "source": [
    "batch_size = 128\n",
    "num_classes = 10\n",
    "epochs = 12\n",
    "\n",
    "# convert class vectors to binary class matrices\n",
    "y_train = keras.utils.to_categorical(y_train, num_classes)\n",
    "y_test = keras.utils.to_categorical(y_test, num_classes)\n",
    "\n",
    "model = Sequential()\n",
    "model.add(Conv2D(32, kernel_size=(3, 3),\n",
    "                 activation='relu',\n",
    "                 input_shape=input_shape))\n",
    "model.add(Conv2D(64, (3, 3), activation='relu'))\n",
    "model.add(MaxPooling2D(pool_size=(2, 2)))\n",
    "model.add(Dropout(0.25))\n",
    "model.add(Flatten())\n",
    "model.add(Dense(128, activation='relu'))\n",
    "model.add(Dropout(0.5))\n",
    "model.add(Dense(num_classes, activation='softmax'))\n",
    "\n",
    "model.compile(loss=keras.losses.categorical_crossentropy,\n",
    "              optimizer=keras.optimizers.Adadelta(),\n",
    "              metrics=['accuracy'])\n",
    "\n",
    "model.fit(x_train, y_train,\n",
    "          batch_size=batch_size,\n",
    "          epochs=epochs,\n",
    "          verbose=1,\n",
    "          validation_data=(x_test, y_test))\n",
    "score = model.evaluate(x_test, y_test, verbose=0)\n",
    "convnet_loss.append(model.evaluate(x_test, y_test, verbose=0))\n",
    "print('Test loss:', score[0])\n",
    "print('Test accuracy:', score[1])"
   ]
  },
  {
   "cell_type": "markdown",
   "metadata": {
    "collapsed": true
   },
   "source": [
    "## Adding noise to convnet"
   ]
  },
  {
   "cell_type": "code",
   "execution_count": 21,
   "metadata": {},
   "outputs": [],
   "source": [
    "noise_convnet = []"
   ]
  },
  {
   "cell_type": "code",
   "execution_count": 23,
   "metadata": {},
   "outputs": [],
   "source": [
    "# input image dimensions\n",
    "img_rows, img_cols = 28, 28\n",
    "\n",
    "# the data, shuffled and split between train and test sets\n",
    "(x_train, y_train), (x_test, y_test) = mnist.load_data()\n",
    "\n",
    "if backend.image_data_format() == 'channels_first':\n",
    "    x_train = x_train.reshape(x_train.shape[0], 1, img_rows, img_cols)\n",
    "    x_test = x_test.reshape(x_test.shape[0], 1, img_rows, img_cols)\n",
    "    input_shape = (1, img_rows, img_cols)\n",
    "else:\n",
    "    x_train = x_train.reshape(x_train.shape[0], img_rows, img_cols, 1)\n",
    "    x_test = x_test.reshape(x_test.shape[0], img_rows, img_cols, 1)\n",
    "    input_shape = (img_rows, img_cols, 1)\n",
    "\n",
    "x_train = x_train.astype('float32')\n",
    "x_test = x_test.astype('float32')\n",
    "x_train /= 255\n",
    "x_test /= 255\n",
    "x_train = random_noise(x_train)\n",
    "x_test = random_noise(x_test)"
   ]
  },
  {
   "cell_type": "code",
   "execution_count": 24,
   "metadata": {
    "scrolled": true
   },
   "outputs": [
    {
     "name": "stdout",
     "output_type": "stream",
     "text": [
      "Train on 60000 samples, validate on 10000 samples\n",
      "Epoch 1/12\n",
      "60000/60000 [==============================] - 58s 974us/step - loss: 0.2693 - accuracy: 0.9195 - val_loss: 0.0592 - val_accuracy: 0.9820\n",
      "Epoch 2/12\n",
      "60000/60000 [==============================] - 59s 984us/step - loss: 0.0901 - accuracy: 0.9731 - val_loss: 0.0402 - val_accuracy: 0.9861\n",
      "Epoch 3/12\n",
      "60000/60000 [==============================] - 59s 985us/step - loss: 0.0692 - accuracy: 0.9794 - val_loss: 0.0371 - val_accuracy: 0.9881\n",
      "Epoch 4/12\n",
      "60000/60000 [==============================] - 59s 986us/step - loss: 0.0566 - accuracy: 0.9835 - val_loss: 0.0308 - val_accuracy: 0.9895\n",
      "Epoch 5/12\n",
      "60000/60000 [==============================] - 59s 983us/step - loss: 0.0490 - accuracy: 0.9850 - val_loss: 0.0327 - val_accuracy: 0.9884\n",
      "Epoch 6/12\n",
      "60000/60000 [==============================] - 59s 983us/step - loss: 0.0434 - accuracy: 0.9866 - val_loss: 0.0316 - val_accuracy: 0.9906\n",
      "Epoch 7/12\n",
      "60000/60000 [==============================] - 59s 984us/step - loss: 0.0395 - accuracy: 0.9881 - val_loss: 0.0296 - val_accuracy: 0.9909\n",
      "Epoch 8/12\n",
      "60000/60000 [==============================] - 59s 983us/step - loss: 0.0356 - accuracy: 0.9893 - val_loss: 0.0293 - val_accuracy: 0.9909\n",
      "Epoch 9/12\n",
      "60000/60000 [==============================] - 59s 982us/step - loss: 0.0325 - accuracy: 0.9901 - val_loss: 0.0291 - val_accuracy: 0.9910\n",
      "Epoch 10/12\n",
      "60000/60000 [==============================] - 59s 985us/step - loss: 0.0304 - accuracy: 0.9906 - val_loss: 0.0282 - val_accuracy: 0.9915\n",
      "Epoch 11/12\n",
      "60000/60000 [==============================] - 59s 984us/step - loss: 0.0280 - accuracy: 0.9909 - val_loss: 0.0302 - val_accuracy: 0.9913\n",
      "Epoch 12/12\n",
      "60000/60000 [==============================] - 65s 1ms/step - loss: 0.0259 - accuracy: 0.9918 - val_loss: 0.0314 - val_accuracy: 0.9905\n",
      "Test loss: 0.03143596427084858\n",
      "Test accuracy: 0.9904999732971191\n"
     ]
    }
   ],
   "source": [
    "batch_size = 128\n",
    "num_classes = 10\n",
    "epochs = 12\n",
    "\n",
    "# convert class vectors to binary class matrices\n",
    "y_train = keras.utils.to_categorical(y_train, num_classes)\n",
    "y_test = keras.utils.to_categorical(y_test, num_classes)\n",
    "\n",
    "model = Sequential()\n",
    "model.add(Conv2D(32, kernel_size=(3, 3),\n",
    "                 activation='relu',\n",
    "                 input_shape=input_shape))\n",
    "model.add(Conv2D(64, (3, 3), activation='relu'))\n",
    "model.add(MaxPooling2D(pool_size=(2, 2)))\n",
    "model.add(Dropout(0.25))\n",
    "model.add(Flatten())\n",
    "model.add(Dense(128, activation='relu'))\n",
    "model.add(Dropout(0.5))\n",
    "model.add(Dense(num_classes, activation='softmax'))\n",
    "\n",
    "model.compile(loss=keras.losses.categorical_crossentropy,\n",
    "              optimizer=keras.optimizers.Adadelta(),\n",
    "              metrics=['accuracy'])\n",
    "\n",
    "model.fit(x_train, y_train,\n",
    "          batch_size=batch_size,\n",
    "          epochs=epochs,\n",
    "          verbose=1,\n",
    "          validation_data=(x_test, y_test))\n",
    "score = model.evaluate(x_test, y_test, verbose=0)\n",
    "noise_convnet.append(model.evaluate(x_test, y_test, verbose=0))\n",
    "print('Test loss:', score[0])\n",
    "print('Test accuracy:', score[1])"
   ]
  },
  {
   "cell_type": "markdown",
   "metadata": {},
   "source": [
    "## Changing the amount of noise added to the training and testing set."
   ]
  },
  {
   "cell_type": "code",
   "execution_count": 27,
   "metadata": {},
   "outputs": [],
   "source": [
    "# input image dimensions\n",
    "img_rows, img_cols = 28, 28\n",
    "\n",
    "# the data, shuffled and split between train and test sets\n",
    "(x_train, y_train), (x_test, y_test) = mnist.load_data()\n",
    "\n",
    "if backend.image_data_format() == 'channels_first':\n",
    "    x_train = x_train.reshape(x_train.shape[0], 1, img_rows, img_cols)\n",
    "    x_test = x_test.reshape(x_test.shape[0], 1, img_rows, img_cols)\n",
    "    input_shape = (1, img_rows, img_cols)\n",
    "else:\n",
    "    x_train = x_train.reshape(x_train.shape[0], img_rows, img_cols, 1)\n",
    "    x_test = x_test.reshape(x_test.shape[0], img_rows, img_cols, 1)\n",
    "    input_shape = (img_rows, img_cols, 1)\n",
    "\n",
    "x_train = x_train.astype('float32')\n",
    "x_test = x_test.astype('float32')\n",
    "x_train /= 255\n",
    "x_test /= 255\n",
    "x_train = random_noise(x_train, mode='speckle')\n",
    "x_test = random_noise(x_test, mode='speckle')"
   ]
  },
  {
   "cell_type": "code",
   "execution_count": 28,
   "metadata": {},
   "outputs": [],
   "source": [
    "noise_loss_2 = []"
   ]
  },
  {
   "cell_type": "code",
   "execution_count": 29,
   "metadata": {
    "scrolled": true
   },
   "outputs": [
    {
     "name": "stdout",
     "output_type": "stream",
     "text": [
      "Train on 60000 samples, validate on 10000 samples\n",
      "Epoch 1/12\n",
      "60000/60000 [==============================] - 59s 983us/step - loss: 0.2590 - accuracy: 0.9206 - val_loss: 0.0593 - val_accuracy: 0.9799\n",
      "Epoch 2/12\n",
      "60000/60000 [==============================] - 60s 1ms/step - loss: 0.0890 - accuracy: 0.9739 - val_loss: 0.0442 - val_accuracy: 0.9859\n",
      "Epoch 3/12\n",
      "60000/60000 [==============================] - 60s 1ms/step - loss: 0.0676 - accuracy: 0.9796 - val_loss: 0.0324 - val_accuracy: 0.9892\n",
      "Epoch 4/12\n",
      "60000/60000 [==============================] - 60s 1ms/step - loss: 0.0556 - accuracy: 0.9837 - val_loss: 0.0302 - val_accuracy: 0.9899\n",
      "Epoch 5/12\n",
      "60000/60000 [==============================] - 60s 1ms/step - loss: 0.0466 - accuracy: 0.9855 - val_loss: 0.0324 - val_accuracy: 0.9890\n",
      "Epoch 6/12\n",
      "60000/60000 [==============================] - 60s 994us/step - loss: 0.0424 - accuracy: 0.9872 - val_loss: 0.0283 - val_accuracy: 0.9908\n",
      "Epoch 7/12\n",
      "60000/60000 [==============================] - 60s 996us/step - loss: 0.0367 - accuracy: 0.9886 - val_loss: 0.0262 - val_accuracy: 0.9911\n",
      "Epoch 8/12\n",
      "60000/60000 [==============================] - 61s 1ms/step - loss: 0.0342 - accuracy: 0.9896 - val_loss: 0.0273 - val_accuracy: 0.9913\n",
      "Epoch 9/12\n",
      "60000/60000 [==============================] - 67s 1ms/step - loss: 0.0320 - accuracy: 0.9904 - val_loss: 0.0304 - val_accuracy: 0.9910\n",
      "Epoch 10/12\n",
      "60000/60000 [==============================] - 61s 1ms/step - loss: 0.0294 - accuracy: 0.9909 - val_loss: 0.0260 - val_accuracy: 0.9918\n",
      "Epoch 11/12\n",
      "60000/60000 [==============================] - 60s 1ms/step - loss: 0.0268 - accuracy: 0.9916 - val_loss: 0.0243 - val_accuracy: 0.9919\n",
      "Epoch 12/12\n",
      "60000/60000 [==============================] - 60s 1ms/step - loss: 0.0253 - accuracy: 0.9920 - val_loss: 0.0250 - val_accuracy: 0.9926\n",
      "Test loss: 0.025003947326906927\n",
      "Test accuracy: 0.9926000237464905\n"
     ]
    }
   ],
   "source": [
    "batch_size = 128\n",
    "num_classes = 10\n",
    "epochs = 12\n",
    "\n",
    "# convert class vectors to binary class matrices\n",
    "y_train = keras.utils.to_categorical(y_train, num_classes)\n",
    "y_test = keras.utils.to_categorical(y_test, num_classes)\n",
    "\n",
    "model = Sequential()\n",
    "model.add(Conv2D(32, kernel_size=(3, 3),\n",
    "                 activation='relu',\n",
    "                 input_shape=input_shape))\n",
    "model.add(Conv2D(64, (3, 3), activation='relu'))\n",
    "model.add(MaxPooling2D(pool_size=(2, 2)))\n",
    "model.add(Dropout(0.25))\n",
    "model.add(Flatten())\n",
    "model.add(Dense(128, activation='relu'))\n",
    "model.add(Dropout(0.5))\n",
    "model.add(Dense(num_classes, activation='softmax'))\n",
    "\n",
    "model.compile(loss=keras.losses.categorical_crossentropy,\n",
    "              optimizer=keras.optimizers.Adadelta(),\n",
    "              metrics=['accuracy'])\n",
    "\n",
    "model.fit(x_train, y_train,\n",
    "          batch_size=batch_size,\n",
    "          epochs=epochs,\n",
    "          verbose=1,\n",
    "          validation_data=(x_test, y_test))\n",
    "score = model.evaluate(x_test, y_test, verbose=0)\n",
    "noise_loss_2.append(model.evaluate(x_test, y_test, verbose=0))\n",
    "print('Test loss:', score[0])\n",
    "print('Test accuracy:', score[1])"
   ]
  },
  {
   "cell_type": "code",
   "execution_count": 30,
   "metadata": {},
   "outputs": [
    {
     "name": "stdout",
     "output_type": "stream",
     "text": [
      "[[0.027638795424243655, 0.9915000200271606]]\n",
      "[[0.03143596427084858, 0.9904999732971191]]\n",
      "[[0.025003947326906927, 0.9926000237464905]]\n"
     ]
    }
   ],
   "source": [
    "print(convnet_loss)\n",
    "print(noise_convnet)\n",
    "print(noise_loss_2)"
   ]
  },
  {
   "cell_type": "markdown",
   "metadata": {},
   "source": [
    "## Graphing the scores"
   ]
  },
  {
   "cell_type": "code",
   "execution_count": 64,
   "metadata": {},
   "outputs": [
    {
     "data": {
      "text/plain": [
       "Text(0,0.5,'Accuracy Score for Convnet')"
      ]
     },
     "execution_count": 64,
     "metadata": {},
     "output_type": "execute_result"
    },
    {
     "data": {
      "image/png": "[encoded data removed]",
      "text/plain": [
       "<Figure size 432x288 with 1 Axes>"
      ]
     },
     "metadata": {
      "needs_background": "light"
     },
     "output_type": "display_data"
    }
   ],
   "source": [
    "# had to flatten the 2D array to extract the scores w.o. loop\n",
    "x1 = np.array(convnet_loss).flatten()[0]\n",
    "y1 = np.array(convnet_loss).flatten()[1]\n",
    "\n",
    "x2 = np.array(noise_convnet).flatten()[0]\n",
    "y2 = np.array(noise_convnet).flatten()[1]\n",
    "\n",
    "x3 = np.array(noise_loss_2).flatten()[0]\n",
    "y3 = np.array(noise_loss_2).flatten()[1]\n",
    "\n",
    "x = [x1,x2,x3]\n",
    "y = [y1,y2,y3]\n",
    "\n",
    "plt.plot(x, y)\n",
    "plt.xlabel(\"Loss Score for Convnet\")\n",
    "plt.ylabel(\"Accuracy Score for Convnet\")"
   ]
  },
  {
   "cell_type": "code",
   "execution_count": 70,
   "metadata": {},
   "outputs": [
    {
     "data": {
      "text/plain": [
       "<matplotlib.legend.Legend at 0x63d757668>"
      ]
     },
     "execution_count": 70,
     "metadata": {},
     "output_type": "execute_result"
    },
    {
     "data": {
      "image/png": "[encoded data removed]",
      "text/plain": [
       "<Figure size 432x288 with 1 Axes>"
      ]
     },
     "metadata": {
      "needs_background": "light"
     },
     "output_type": "display_data"
    }
   ],
   "source": [
    "# flatten the lists containing loss scores.\n",
    "x1 = np.array(noisey_mlnn_loss).flatten()[0]\n",
    "y1 = np.array(noisey_mlnn_loss).flatten()[1]\n",
    "\n",
    "x2 = np.array(initial_mlnn_loss).flatten()[0]\n",
    "y2 = np.array(initial_mlnn_loss).flatten()[1]\n",
    "\n",
    "x3 = np.array(more_noise_loss).flatten()[0]\n",
    "y3 = np.array(more_noise_loss).flatten()[1]\n",
    "\n",
    "x = [x2,x1,x3]\n",
    "y = [y2,y1,y3]\n",
    "\n",
    "\n",
    "# had to flatten the 2D array to extract the scores w.o. loop\n",
    "x4 = np.array(convnet_loss).flatten()[0]\n",
    "y4 = np.array(convnet_loss).flatten()[1]\n",
    "\n",
    "x5 = np.array(noise_convnet).flatten()[0]\n",
    "y5 = np.array(noise_convnet).flatten()[1]\n",
    "\n",
    "x6 = np.array(noise_loss_2).flatten()[0]\n",
    "y6 = np.array(noise_loss_2).flatten()[1]\n",
    "\n",
    "x2 = [x4,x5,x6]\n",
    "y2 = [y4,y5,y6]\n",
    "\n",
    "# graph the data.\n",
    "plt.plot(x,y, label = 'MLNN')\n",
    "plt.plot(x2,y2, label = 'Convnet')\n",
    "plt.title(\"Comparison of Neural Network Scores\")\n",
    "plt.xlabel(\"Loss Score\")\n",
    "plt.ylabel(\"Accuracy Score\")\n",
    "plt.legend()"
   ]
  },
  {
   "cell_type": "code",
   "execution_count": null,
   "metadata": {},
   "outputs": [],
   "source": []
  }
 ],
 "metadata": {
  "kernelspec": {
   "display_name": "Python 3",
   "language": "python",
   "name": "python3"
  },
  "language_info": {
   "codemirror_mode": {
    "name": "ipython",
    "version": 3
   },
   "file_extension": ".py",
   "mimetype": "text/x-python",
   "name": "python",
   "nbconvert_exporter": "python",
   "pygments_lexer": "ipython3",
   "version": "3.6.10"
  }
 },
 "nbformat": 4,
 "nbformat_minor": 2
}
